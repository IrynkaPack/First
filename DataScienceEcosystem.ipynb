{
  "metadata": {
    "kernelspec": {
      "name": "python",
      "display_name": "Python (Pyodide)",
      "language": "python"
    },
    "language_info": {
      "codemirror_mode": {
        "name": "python",
        "version": 3
      },
      "file_extension": ".py",
      "mimetype": "text/x-python",
      "name": "python",
      "nbconvert_exporter": "python",
      "pygments_lexer": "ipython3",
      "version": "3.8"
    }
  },
  "nbformat_minor": 4,
  "nbformat": 4,
  "cells": [
    {
      "cell_type": "markdown",
      "source": "# Data Science Tools and Ecosystem",
      "metadata": {}
    },
    {
      "cell_type": "markdown",
      "source": "In this notebook, Data Science Tools and Ecosystem are summarized.",
      "metadata": {}
    },
    {
      "cell_type": "markdown",
      "source": "**Objectives:**\n- List popular languages for Data Science\n- List commonly used libraries\n- Data Science Tools\n- Arithmetic expression examples",
      "metadata": {}
    },
    {
      "cell_type": "markdown",
      "source": "### Some of the popular languages that Data Scientists use are:\n\n1. Python: Widely used due to its simplicity and the vast ecosystem of libraries like Pandas, NumPy, Scikit-learn, and TensorFlow for data manipulation, analysis, and machine learning.\n2. R: Known for its strong statistical capabilities and a rich set of packages like ggplot2, dplyr, and caret for data visualization and analysis.\n3. SQL: Essential for querying and managing databases, SQL is a crucial skill for accessing and manipulating data stored in relational databases.\n4. Julia: Gaining popularity for its speed and performance, particularly in numerical and scientific computing.\n5. Java: Sometimes used in large-scale production environments, especially for big data frameworks like Apache Hadoop and Apache Spark.\n6. Scala: Often used in conjunction with Apache Spark for big data processing.\n7. MATLAB: Popular in academic and research settings, especially for numerical computing and algorithm development.\n8. SAS: A specialized tool for statistical analysis, commonly used in industries like healthcare and finance.\n\nEach of these languages has its strengths and is chosen based on the specific needs of the data science project.",
      "metadata": {}
    },
    {
      "cell_type": "markdown",
      "source": "### Some of the commonly used libraries used by Data Scientists include:\n 1. #### Python Libraries:\n     1) Pandas\n     2) NumPy\n     3) Scikit-learn\n     4) Seaborn\n     5) TensorFlow\n     6) Keras\n     7) PyTorch\n     8) SciPy\n     9) NLTK \n3.  #### R Libraries:\n    1) ggplot2\n    2) dplyr\n    3) caret\n    4) tidyr\n    5) shiny \n3. #### SQL and Big Data Libraries:\n    1) Apache Spark\n    2) Hadoop\n    3) Dask\n4. #### Other Useful Tools:\n    1) Jupyter Notebook\n    2) Tableau\n       \nThese libraries and tools are essential in the data scientist's toolkit, enabling efficient data analysis, visualization, and machine learning.",
      "metadata": {}
    },
    {
      "cell_type": "markdown",
      "source": "|Data Science Tools|\n|------|\n|Jupyter Notebook|\n|RStudio|\n|Apache Zeppelin|",
      "metadata": {}
    },
    {
      "cell_type": "markdown",
      "source": "### Below are a few examples of evaluating arithmetic expressions in Python",
      "metadata": {}
    },
    {
      "cell_type": "code",
      "source": "# This a simple arithmetic expression to mutiply then add integers\n(3*4)+5",
      "metadata": {
        "trusted": true
      },
      "outputs": [
        {
          "execution_count": 6,
          "output_type": "execute_result",
          "data": {
            "text/plain": "17"
          },
          "metadata": {}
        }
      ],
      "execution_count": 6
    },
    {
      "cell_type": "code",
      "source": "#  This will convert 200 minutes to hours by diving by 60 \n200/60",
      "metadata": {
        "trusted": true
      },
      "outputs": [
        {
          "execution_count": 4,
          "output_type": "execute_result",
          "data": {
            "text/plain": "3.3333333333333335"
          },
          "metadata": {}
        }
      ],
      "execution_count": 4
    },
    {
      "cell_type": "markdown",
      "source": "## Author:\nIryna Kushnirova",
      "metadata": {}
    }
  ]
}